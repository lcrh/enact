{
 "cells": [
  {
   "cell_type": "markdown",
   "metadata": {},
   "source": [
    "# Agent service "
   ]
  },
  {
   "cell_type": "code",
   "execution_count": 1,
   "metadata": {},
   "outputs": [],
   "source": [
    "import dataclasses\n",
    "from typing import cast, List\n",
    "\n",
    "import enact\n",
    "from enact.agents import agent_server\n",
    "from enact.agents import agents\n",
    "from enact.agents import environments\n",
    "from enact.agents import node_api\n",
    "from enact.agents import tasks\n",
    "from enact.coroutines import threaded_async"
   ]
  },
  {
   "cell_type": "markdown",
   "metadata": {},
   "source": [
    "## Tic-Tac-Toe boards"
   ]
  },
  {
   "cell_type": "code",
   "execution_count": 2,
   "metadata": {},
   "outputs": [],
   "source": [
    "from typing import Optional\n",
    "\n",
    "\n",
    "@enact.register\n",
    "@dataclasses.dataclass\n",
    "class Move(enact.Resource):\n",
    "  player: str\n",
    "  x: int\n",
    "  y: int\n",
    "\n",
    "\n",
    "@enact.register\n",
    "@dataclasses.dataclass\n",
    "class TicTacToeBoard(enact.Resource):\n",
    "  next_player: str = 'X'\n",
    "  board: List[List[str]] = dataclasses.field(\n",
    "      default_factory=lambda: [[' ']*3 for _ in range(3)])\n",
    "\n",
    "  def winner(self) -> Optional[str]:\n",
    "    \"\"\"Returns the winner of the game, or None if the game is not over.\"\"\"\n",
    "    for row in range(3):\n",
    "      if (self.board[row][0] == self.board[row][1] == self.board[row][2] and\n",
    "          self.board[row][0] != ' '):\n",
    "        return self.board[row][0]\n",
    "    for col in range(3):\n",
    "      if (self.board[0][col] == self.board[1][col] == self.board[2][col] and\n",
    "          self.board[0][col] != ' '):\n",
    "        return self.board[0][col]\n",
    "    for diag in [(0, 0), (0, 2)]:\n",
    "      if (self.board[diag[0]][diag[1]] == self.board[1][1] ==\n",
    "          self.board[2-diag[0]][2-diag[1]] and self.board[1][1] != ' '):\n",
    "        return self.board[1][1]\n",
    "    return None\n",
    "\n",
    "  def ended(self) -> bool:\n",
    "    return self.winner() is not None or self.moves() == []\n",
    "\n",
    "  def moves(self) -> List[Move]:\n",
    "    return [Move(player=self.next_player, x=x, y=y)\n",
    "            for x in range(3) for y in range(3)\n",
    "            if self.board[y][x] == ' ']\n",
    "\n",
    "  def draw(self) -> str:\n",
    "    \"\"\"Draw the board.\"\"\"\n",
    "    return '\\n'.join(['|' + '|'.join(row) + '|'\n",
    "                      for row in self.board])\n",
    "\n",
    "  def play_move(self, move: Move):\n",
    "    if self.board[move.y][move.x] != ' ':\n",
    "      raise ValueError(f'Invalid move: {move}\\n{self.draw()}')\n",
    "    if move.player != self.next_player:\n",
    "      raise ValueError(f'Invalid player: {move}\\n{self.draw()}')\n",
    "    self.board[move.y][move.x] = move.player\n",
    "    self.next_player = 'X' if move.player == 'O' else 'O'\n"
   ]
  },
  {
   "cell_type": "markdown",
   "metadata": {},
   "source": [
    "## Environment schemas\n",
    "\n",
    "### TicTacToe player schema"
   ]
  },
  {
   "cell_type": "code",
   "execution_count": 3,
   "metadata": {},
   "outputs": [
    {
     "name": "stdout",
     "output_type": "stream",
     "text": [
      "Board schema:\n",
      "root\n",
      "  POST(__main__.Move) -> none\n",
      "  GET(none) -> __main__.TicTacToeBoard\n"
     ]
    }
   ],
   "source": [
    "player_schema = node_api.NodeSchema()\n",
    "player_schema.post_signature = node_api.Signature.from_types(\n",
    "    Move, None)\n",
    "player_schema.get_signature = node_api.Signature.from_types(\n",
    "    None, TicTacToeBoard)\n",
    "print('Board schema:')\n",
    "print(player_schema.pformat())"
   ]
  },
  {
   "cell_type": "markdown",
   "metadata": {},
   "source": [
    "### TicTacToe board schema"
   ]
  },
  {
   "cell_type": "code",
   "execution_count": 4,
   "metadata": {},
   "outputs": [
    {
     "name": "stdout",
     "output_type": "stream",
     "text": [
      "Board schema:\n",
      "root\n",
      "  .X\n",
      "    POST(__main__.Move) -> none\n",
      "    GET(none) -> __main__.TicTacToeBoard\n",
      "  .O\n",
      "    POST(__main__.Move) -> none\n",
      "    GET(none) -> __main__.TicTacToeBoard\n"
     ]
    }
   ],
   "source": [
    "board_schema = node_api.NodeSchema()\n",
    "board_schema.add_attribute('X', player_schema)\n",
    "board_schema.add_attribute('O', player_schema)\n",
    "print('Board schema:')\n",
    "print(board_schema.pformat())"
   ]
  },
  {
   "cell_type": "markdown",
   "metadata": {},
   "source": [
    "### Global service schema "
   ]
  },
  {
   "cell_type": "code",
   "execution_count": 5,
   "metadata": {},
   "outputs": [
    {
     "name": "stdout",
     "output_type": "stream",
     "text": [
      "Service schema:\n",
      "root\n",
      "  .gameboards\n",
      "    /*\n",
      "      .X\n",
      "        POST(__main__.Move) -> none\n",
      "        GET(none) -> __main__.TicTacToeBoard\n",
      "      .O\n",
      "        POST(__main__.Move) -> none\n",
      "        GET(none) -> __main__.TicTacToeBoard\n"
     ]
    }
   ],
   "source": [
    "service_schema = node_api.NodeSchema()\n",
    "service_schema.add('gameboards').element_type = board_schema\n",
    "print('Service schema:')\n",
    "print(service_schema.pformat())"
   ]
  },
  {
   "cell_type": "markdown",
   "metadata": {},
   "source": [
    "### Defining the TicTacToe player agent"
   ]
  },
  {
   "cell_type": "code",
   "execution_count": 6,
   "metadata": {},
   "outputs": [],
   "source": [
    "import random\n",
    "\n",
    "# Agent API:\n",
    "async def get_board() -> TicTacToeBoard:\n",
    "  environment = environments.Environment.current()\n",
    "  return cast(TicTacToeBoard, await environment.get('', None))\n",
    "\n",
    "async def play_move(move: Move) -> TicTacToeBoard:\n",
    "  environment = environments.Environment.current()\n",
    "  return cast(\n",
    "    TicTacToeBoard,\n",
    "    await environment.post(f'', move))\n",
    "\n",
    "\n",
    "# Agent behavior:\n",
    "async def play_tic_tac_toe(unused_node_id, unused_data) -> str:\n",
    "  board = await get_board()\n",
    "  me = board.next_player\n",
    "  while not board.ended():\n",
    "    assert board.next_player == me\n",
    "    moves = board.moves()\n",
    "    await play_move(random.choice(moves))\n",
    "    board = await get_board()\n",
    "  if board.winner() == me:\n",
    "    return 'Haha, I win!'\n",
    "  elif board.winner() == ' ':\n",
    "    return 'A draw...'\n",
    "  else:\n",
    "    return 'Boohoo, I lose!'"
   ]
  },
  {
   "cell_type": "code",
   "execution_count": 7,
   "metadata": {},
   "outputs": [],
   "source": [
    "tic_tac_toe_agent = agents.Agent(\n",
    "  name='DeepToe',\n",
    "  environment_schema=player_schema,\n",
    "  agent_handlers=node_api.AsyncNode(\n",
    "    post_handler=play_tic_tac_toe,\n",
    "    post_signature=node_api.Signature.from_types(None, str)))"
   ]
  },
  {
   "cell_type": "markdown",
   "metadata": {},
   "source": [
    "### Defining a TicTacToe Server"
   ]
  },
  {
   "cell_type": "code",
   "execution_count": 8,
   "metadata": {},
   "outputs": [],
   "source": [
    "import abc\n",
    "\n",
    "class EnvironmentServer(abc.ABC):\n",
    "  \"\"\"Base class for environment servers.\"\"\"\n",
    "\n",
    "  @property\n",
    "  @abc.abstractmethod\n",
    "  def schema(self) -> node_api.NodeSchema:\n",
    "    pass\n",
    "\n",
    "  @abc.abstractmethod\n",
    "  def update(self, outstanding_tasks: List[tasks.Task]):\n",
    "    pass\n",
    "\n",
    "\n",
    "\n",
    "class TicTacToeEnvironmentServer(EnvironmentServer):\n",
    "  \"\"\"A server for a single TicTacToe environment.\"\"\"\n",
    "\n",
    "  def __init__(self):\n",
    "    self._board = TicTacToeBoard()\n",
    "\n",
    "  @property\n",
    "  def schema(self) -> node_api.NodeSchema:\n",
    "    return board_schema\n",
    "\n",
    "  def update(self, outstanding_tasks: List[tasks.Task]):\n",
    "    for task in outstanding_tasks:\n",
    "      node_id = task.node_id\n",
    "      assert node_id.matches('X') or node_id.matches('O')\n",
    "      if str(task.node_id) != self._board.next_player:\n",
    "        # Ignore tasks for non-active players\n",
    "        continue\n",
    "      if isinstance(task, tasks.GetTask):\n",
    "        task.future.set_result(enact.deepcopy(self._board))\n",
    "      elif isinstance(task, tasks.PostTask):\n",
    "        move = task.data\n",
    "        try:\n",
    "          self._board.play_move(move)\n",
    "          task.future.set_result(None)\n",
    "        except Exception as e:\n",
    "          task.future.set_exception(e)\n",
    "      else:\n",
    "        assert False\n"
   ]
  },
  {
   "cell_type": "code",
   "execution_count": 9,
   "metadata": {},
   "outputs": [],
   "source": [
    "from typing import Dict\n",
    "\n",
    "class AgentService(agent_server.AgentServer):\n",
    "\n",
    "  def __init__(self):\n",
    "    super().__init__(service_schema)\n",
    "    self._servers: Dict[node_api.NodeId, EnvironmentServer] = {}\n",
    "\n",
    "  def add_environment_server(\n",
    "      self, location: node_api.NodeId, server: EnvironmentServer):\n",
    "    \"\"\"Add a new environment to serve a given location.\"\"\"\n",
    "    if not node_api.is_subschema(self.schema.find(location), server.schema):\n",
    "      raise ValueError(\n",
    "        f'Server schema does not match service schema at {location}:'\n",
    "        f'\\n{server.schema.pformat()}\\nvs\\n{self.schema.pformat()}')\n",
    "    self._servers[location] = server\n",
    "\n",
    "  def update(self):\n",
    "    super().update()\n",
    "    per_location = {\n",
    "      location: [] for location in self._servers.keys()}\n",
    "    for task in self.outstanding_tasks:\n",
    "      for location in per_location.keys():\n",
    "        if sublocation := task.node_id.strip_prefix(location):\n",
    "          subtask = dataclasses.replace(task, node_id=sublocation)\n",
    "          per_location[location].append(subtask)\n",
    "          break\n",
    "      else:\n",
    "        raise ValueError(f'No server for task at: {task.node_id}')\n",
    "    for location, server in self._servers.items():\n",
    "      server.update(per_location[location])\n",
    "\n"
   ]
  },
  {
   "cell_type": "code",
   "execution_count": 12,
   "metadata": {},
   "outputs": [],
   "source": [
    "def run_game(service: AgentService,\n",
    "             gameboard_id: node_api.NodeId,\n",
    "             player1: agents.Agent, player2: agents.Agent):\n",
    "  \"\"\"Complete a game between two agents.\"\"\"\n",
    "  print(f'Starting game at {gameboard_id}')\n",
    "  player1_location = f'{gameboard_id}.X'\n",
    "  player2_location = f'{gameboard_id}.O'\n",
    "  # Start agents at different locations.\n",
    "  print(f'Deploying agent: {player1.name} at {player1_location}')\n",
    "  task1 = service.post(player1, player1_location, '', None)\n",
    "  print(f'Deploying agent: {player2.name} at {player2_location}')\n",
    "  task2 = service.post(player2, player2_location, '', None)\n",
    "  # Run the game loop.\n",
    "  print('Let the games begin...')\n",
    "  while not task1.done() and not task2.done():\n",
    "    service.update()\n",
    "  print(f'Player X: {task1.wait()}')\n",
    "  print(f'Player O: {task2.wait()}')"
   ]
  },
  {
   "cell_type": "code",
   "execution_count": 14,
   "metadata": {},
   "outputs": [
    {
     "name": "stdout",
     "output_type": "stream",
     "text": [
      "Starting game at gameboards/1\n",
      "Deploying agent: DeepToe at gameboards/1.X\n",
      "Deploying agent: DeepToe at gameboards/1.O\n",
      "Let the games begin...\n"
     ]
    },
    {
     "ename": "KeyboardInterrupt",
     "evalue": "",
     "output_type": "error",
     "traceback": [
      "\u001b[0;31m---------------------------------------------------------------------------\u001b[0m",
      "\u001b[0;31mKeyboardInterrupt\u001b[0m                         Traceback (most recent call last)",
      "Cell \u001b[0;32mIn[14], line 6\u001b[0m\n\u001b[1;32m      3\u001b[0m gameboard_id \u001b[38;5;241m=\u001b[39m node_api\u001b[38;5;241m.\u001b[39mNodeId(\u001b[38;5;124m'\u001b[39m\u001b[38;5;124mgameboards/1\u001b[39m\u001b[38;5;124m'\u001b[39m)\n\u001b[1;32m      4\u001b[0m service\u001b[38;5;241m.\u001b[39madd_environment_server(gameboard_id, env_server)\n\u001b[0;32m----> 6\u001b[0m \u001b[43mrun_game\u001b[49m\u001b[43m(\u001b[49m\u001b[43mservice\u001b[49m\u001b[43m,\u001b[49m\u001b[43m \u001b[49m\u001b[43mgameboard_id\u001b[49m\u001b[43m,\u001b[49m\u001b[43m \u001b[49m\u001b[43mtic_tac_toe_agent\u001b[49m\u001b[43m,\u001b[49m\u001b[43m \u001b[49m\u001b[43mtic_tac_toe_agent\u001b[49m\u001b[43m)\u001b[49m\n",
      "Cell \u001b[0;32mIn[12], line 17\u001b[0m, in \u001b[0;36mrun_game\u001b[0;34m(service, gameboard_id, player1, player2)\u001b[0m\n\u001b[1;32m     15\u001b[0m \u001b[38;5;28;01mwhile\u001b[39;00m \u001b[38;5;129;01mnot\u001b[39;00m task1\u001b[38;5;241m.\u001b[39mdone() \u001b[38;5;129;01mand\u001b[39;00m \u001b[38;5;129;01mnot\u001b[39;00m task2\u001b[38;5;241m.\u001b[39mdone():\n\u001b[1;32m     16\u001b[0m   service\u001b[38;5;241m.\u001b[39mupdate()\n\u001b[0;32m---> 17\u001b[0m \u001b[38;5;28mprint\u001b[39m(\u001b[38;5;124mf\u001b[39m\u001b[38;5;124m'\u001b[39m\u001b[38;5;124mPlayer X: \u001b[39m\u001b[38;5;132;01m{\u001b[39;00mtask1\u001b[38;5;241m.\u001b[39mwait()\u001b[38;5;132;01m}\u001b[39;00m\u001b[38;5;124m'\u001b[39m)\n\u001b[1;32m     18\u001b[0m \u001b[38;5;28mprint\u001b[39m(\u001b[38;5;124mf\u001b[39m\u001b[38;5;124m'\u001b[39m\u001b[38;5;124mPlayer O: \u001b[39m\u001b[38;5;132;01m{\u001b[39;00mtask2\u001b[38;5;241m.\u001b[39mwait()\u001b[38;5;132;01m}\u001b[39;00m\u001b[38;5;124m'\u001b[39m)\n",
      "File \u001b[0;32m~/dev/enact/src/enact/coroutines/threaded_async.py:523\u001b[0m, in \u001b[0;36m_BackgroundTask.wait\u001b[0;34m(self, timeout)\u001b[0m\n\u001b[1;32m    521\u001b[0m   \u001b[38;5;28;01mraise\u001b[39;00m \u001b[38;5;167;01mRuntimeError\u001b[39;00m(\u001b[38;5;124m'\u001b[39m\u001b[38;5;124mCannot wait for task when runner is not running.\u001b[39m\u001b[38;5;124m'\u001b[39m)\n\u001b[1;32m    522\u001b[0m \u001b[38;5;28;01mtry\u001b[39;00m:\n\u001b[0;32m--> 523\u001b[0m   result \u001b[38;5;241m=\u001b[39m \u001b[38;5;28;43mself\u001b[39;49m\u001b[38;5;241;43m.\u001b[39;49m\u001b[43m_exec_tracker\u001b[49m\u001b[38;5;241;43m.\u001b[39;49m\u001b[43mwait\u001b[49m\u001b[43m(\u001b[49m\u001b[43mtimeout\u001b[49m\u001b[38;5;241;43m=\u001b[39;49m\u001b[43mtimeout\u001b[49m\u001b[43m)\u001b[49m\n\u001b[1;32m    524\u001b[0m \u001b[38;5;28;01mfinally\u001b[39;00m:\n\u001b[1;32m    525\u001b[0m   \u001b[38;5;28;01mif\u001b[39;00m \u001b[38;5;28mself\u001b[39m\u001b[38;5;241m.\u001b[39m_exec_tracker\u001b[38;5;241m.\u001b[39mis_done:\n",
      "File \u001b[0;32m~/dev/enact/src/enact/coroutines/threaded_async.py:597\u001b[0m, in \u001b[0;36m_ExecutionTracker.wait\u001b[0;34m(self, timeout)\u001b[0m\n\u001b[1;32m    595\u001b[0m \u001b[38;5;28;01mdef\u001b[39;00m \u001b[38;5;21mwait\u001b[39m(\u001b[38;5;28mself\u001b[39m, timeout: Optional[\u001b[38;5;28mfloat\u001b[39m]) \u001b[38;5;241m-\u001b[39m\u001b[38;5;241m>\u001b[39m R:\n\u001b[1;32m    596\u001b[0m \u001b[38;5;250m  \u001b[39m\u001b[38;5;124;03m\"\"\"Wait for the result.\"\"\"\u001b[39;00m\n\u001b[0;32m--> 597\u001b[0m   \u001b[38;5;28;01mif\u001b[39;00m \u001b[38;5;129;01mnot\u001b[39;00m \u001b[38;5;28;43mself\u001b[39;49m\u001b[38;5;241;43m.\u001b[39;49m\u001b[43m_done\u001b[49m\u001b[38;5;241;43m.\u001b[39;49m\u001b[43mwait\u001b[49m\u001b[43m(\u001b[49m\u001b[43mtimeout\u001b[49m\u001b[38;5;241;43m=\u001b[39;49m\u001b[43mtimeout\u001b[49m\u001b[43m)\u001b[49m:\n\u001b[1;32m    598\u001b[0m     \u001b[38;5;28;01mraise\u001b[39;00m EventLoopTimeoutError(\n\u001b[1;32m    599\u001b[0m       \u001b[38;5;124m'\u001b[39m\u001b[38;5;124mTimed out waiting for execution to complete.\u001b[39m\u001b[38;5;124m'\u001b[39m)\n\u001b[1;32m    600\u001b[0m   \u001b[38;5;28;01mif\u001b[39;00m \u001b[38;5;28mself\u001b[39m\u001b[38;5;241m.\u001b[39m_exception \u001b[38;5;129;01mis\u001b[39;00m \u001b[38;5;129;01mnot\u001b[39;00m \u001b[38;5;28;01mNone\u001b[39;00m:\n",
      "File \u001b[0;32m/usr/lib/python3.8/threading.py:558\u001b[0m, in \u001b[0;36mEvent.wait\u001b[0;34m(self, timeout)\u001b[0m\n\u001b[1;32m    556\u001b[0m signaled \u001b[38;5;241m=\u001b[39m \u001b[38;5;28mself\u001b[39m\u001b[38;5;241m.\u001b[39m_flag\n\u001b[1;32m    557\u001b[0m \u001b[38;5;28;01mif\u001b[39;00m \u001b[38;5;129;01mnot\u001b[39;00m signaled:\n\u001b[0;32m--> 558\u001b[0m     signaled \u001b[38;5;241m=\u001b[39m \u001b[38;5;28;43mself\u001b[39;49m\u001b[38;5;241;43m.\u001b[39;49m\u001b[43m_cond\u001b[49m\u001b[38;5;241;43m.\u001b[39;49m\u001b[43mwait\u001b[49m\u001b[43m(\u001b[49m\u001b[43mtimeout\u001b[49m\u001b[43m)\u001b[49m\n\u001b[1;32m    559\u001b[0m \u001b[38;5;28;01mreturn\u001b[39;00m signaled\n",
      "File \u001b[0;32m/usr/lib/python3.8/threading.py:302\u001b[0m, in \u001b[0;36mCondition.wait\u001b[0;34m(self, timeout)\u001b[0m\n\u001b[1;32m    300\u001b[0m \u001b[38;5;28;01mtry\u001b[39;00m:    \u001b[38;5;66;03m# restore state no matter what (e.g., KeyboardInterrupt)\u001b[39;00m\n\u001b[1;32m    301\u001b[0m     \u001b[38;5;28;01mif\u001b[39;00m timeout \u001b[38;5;129;01mis\u001b[39;00m \u001b[38;5;28;01mNone\u001b[39;00m:\n\u001b[0;32m--> 302\u001b[0m         \u001b[43mwaiter\u001b[49m\u001b[38;5;241;43m.\u001b[39;49m\u001b[43macquire\u001b[49m\u001b[43m(\u001b[49m\u001b[43m)\u001b[49m\n\u001b[1;32m    303\u001b[0m         gotit \u001b[38;5;241m=\u001b[39m \u001b[38;5;28;01mTrue\u001b[39;00m\n\u001b[1;32m    304\u001b[0m     \u001b[38;5;28;01melse\u001b[39;00m:\n",
      "\u001b[0;31mKeyboardInterrupt\u001b[0m: "
     ]
    }
   ],
   "source": [
    "with AgentService() as service:\n",
    "  env_server = TicTacToeEnvironmentServer()\n",
    "  gameboard_id = node_api.NodeId('gameboards/1')\n",
    "  service.add_environment_server(gameboard_id, env_server)\n",
    "\n",
    "  run_game(service, gameboard_id, tic_tac_toe_agent, tic_tac_toe_agent)"
   ]
  }
 ],
 "metadata": {
  "kernelspec": {
   "display_name": ".venv",
   "language": "python",
   "name": "python3"
  },
  "language_info": {
   "codemirror_mode": {
    "name": "ipython",
    "version": 3
   },
   "file_extension": ".py",
   "mimetype": "text/x-python",
   "name": "python",
   "nbconvert_exporter": "python",
   "pygments_lexer": "ipython3",
   "version": "3.8.10"
  }
 },
 "nbformat": 4,
 "nbformat_minor": 2
}
